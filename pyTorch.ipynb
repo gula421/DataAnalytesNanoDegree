{
 "cells": [
  {
   "cell_type": "markdown",
   "metadata": {},
   "source": [
    "# Developing an AI application\n",
    "\n",
    "Going forward, AI algorithms will be incorporated into more and more everyday applications. For example, you might want to include an image classifier in a smart phone app. To do this, you'd use a deep learning model trained on hundreds of thousands of images as part of the overall application architecture. A large part of software development in the future will be using these types of models as common parts of applications. \n",
    "\n",
    "In this project, you'll train an image classifier to recognize different species of flowers. You can imagine using something like this in a phone app that tells you the name of the flower your camera is looking at. In practice you'd train this classifier, then export it for use in your application. We'll be using [this dataset](http://www.robots.ox.ac.uk/~vgg/data/flowers/102/index.html) of 102 flower categories, you can see a few examples below. \n",
    "\n",
    "<img src='assets/Flowers.png' width=500px>\n",
    "\n",
    "The project is broken down into multiple steps:\n",
    "\n",
    "* Load and preprocess the image dataset\n",
    "* Train the image classifier on your dataset\n",
    "* Use the trained classifier to predict image content\n",
    "\n",
    "We'll lead you through each part which you'll implement in Python.\n",
    "\n",
    "When you've completed this project, you'll have an application that can be trained on any set of labeled images. Here your network will be learning about flowers and end up as a command line application. But, what you do with your new skills depends on your imagination and effort in building a dataset. For example, imagine an app where you take a picture of a car, it tells you what the make and model is, then looks up information about it. Go build your own dataset and make something new.\n",
    "\n",
    "First up is importing the packages you'll need. It's good practice to keep all the imports at the beginning of your code. As you work through this notebook and find you need to import a package, make sure to add the import up here."
   ]
  },
  {
   "cell_type": "code",
   "execution_count": 1,
   "metadata": {
    "collapsed": true
   },
   "outputs": [],
   "source": [
    "# Imports here\n",
    "import torch\n",
    "from torchvision import datasets\n",
    "import torchvision.transforms as transforms\n",
    "from torch.utils.data.sampler import SubsetRandomSampler\n",
    "import numpy as np\n",
    "import matplotlib.pyplot as plt\n",
    "%matplotlib inline\n",
    "from torch import nn\n",
    "from torch import optim\n",
    "import torch.nn.functional as F\n",
    "from torchvision import datasets, transforms, models\n",
    "import pickle\n",
    "import json\n",
    "from PIL import Image"
   ]
  },
  {
   "cell_type": "code",
   "execution_count": 14,
   "metadata": {
    "collapsed": true
   },
   "outputs": [],
   "source": [
    "### First get the architecture of the trained model ###\n",
    "\n",
    "def get_model(model_str):\n",
    "    \n",
    "    if model_str == 'M1':\n",
    "        model = models.vgg16()\n",
    "        model.classifier._modules['6'] = nn.Linear(4096, 102)\n",
    "        model.classifier._modules['7'] = nn.LogSoftmax(dim=1)\n",
    "        \n",
    "    elif model_str == 'M2':\n",
    "        model = models.densenet121()\n",
    "        model.classifier = nn.Sequential(nn.Linear(1024, 512),\n",
    "                                         nn.Linear(512, 102),\n",
    "                                         nn.LogSoftmax(dim=1))\n",
    "    elif model_str == 'M3':\n",
    "        model = models.vgg16()\n",
    "        model.classifier._modules['6'] = nn.Linear(4096, 512)\n",
    "        model.classifier._modules['7'] = nn.ReLU()\n",
    "        model.classifier._modules['8'] = nn.Linear(512, 102)\n",
    "        model.classifier._modules['9'] = nn.LogSoftmax(dim=1)\n",
    "        \n",
    "    elif model_str == 'M4':\n",
    "        model = models.vgg16(pretrained=True)\n",
    "        model.classifier._modules['6'] = nn.Linear(4096, 1024)\n",
    "        model.classifier._modules['7'] = nn.ReLU()\n",
    "        model.classifier._modules['8'] = nn.Linear(1024, 102)\n",
    "        model.classifier._modules['9'] = nn.LogSoftmax(dim=1)\n",
    "    \n",
    "    return model"
   ]
  },
  {
   "cell_type": "code",
   "execution_count": 2,
   "metadata": {},
   "outputs": [
    {
     "name": "stdout",
     "output_type": "stream",
     "text": [
      "CUDA is not available.  Training on CPU ...\n"
     ]
    }
   ],
   "source": [
    "### All parameters ###\n",
    "model_str = 'M1'\n",
    "savename = model_str+'_checkpoint.pth'\n",
    "\n",
    "num_batch_size = 20\n",
    "# number of subprocesses to use for data loading\n",
    "num_workers = 0\n",
    "# percentage of training set to use for training process (for model development)\n",
    "valid_size = 0.01 ### first big\n",
    "epochs = 30 # default:5\n",
    "print_every = 40 # default:40\n",
    "\n",
    "### GPU\n",
    "train_on_gpu = torch.cuda.is_available()\n",
    "if not train_on_gpu:\n",
    "    print('CUDA is not available.  Training on CPU ...')\n",
    "else:\n",
    "    print('CUDA is available!  Training on GPU ...')\n",
    "    \n",
    "## data path\n",
    "data_dir = 'flower_data'\n",
    "train_dir = data_dir + '/train'\n",
    "valid_dir = data_dir + '/valid'"
   ]
  },
  {
   "cell_type": "markdown",
   "metadata": {},
   "source": [
    "## Load the data\n",
    "\n",
    "Here you'll use `torchvision` to load the data ([documentation](http://pytorch.org/docs/0.3.0/torchvision/index.html)). You can [download the data here](https://s3.amazonaws.com/content.udacity-data.com/courses/nd188/flower_data.zip). The dataset is split into two parts, training and validation. For the training, you'll want to apply transformations such as random scaling, cropping, and flipping. This will help the network generalize leading to better performance. If you use a pre-trained network, you'll also need to make sure the input data is resized to 224x224 pixels as required by the networks.\n",
    "\n",
    "The validation set is used to measure the model's performance on data it hasn't seen yet. For this you don't want any scaling or rotation transformations, but you'll need to resize then crop the images to the appropriate size.\n",
    "\n",
    "The pre-trained networks available from `torchvision` were trained on the ImageNet dataset where each color channel was normalized separately. For both sets you'll need to normalize the means and standard deviations of the images to what the network expects. For the means, it's `[0.485, 0.456, 0.406]` and for the standard deviations `[0.229, 0.224, 0.225]`, calculated from the ImageNet images.  These values will shift each color channel to be centered at 0 and range from -1 to 1."
   ]
  },
  {
   "cell_type": "code",
   "execution_count": 3,
   "metadata": {},
   "outputs": [
    {
     "name": "stdout",
     "output_type": "stream",
     "text": [
      "number of training data: 65\n"
     ]
    }
   ],
   "source": [
    "# TODO: Define your transforms for the training and validation sets\n",
    "data_transforms = dict([('train', \n",
    "                         transforms.Compose([transforms.RandomRotation(30),\n",
    "                                      transforms.RandomResizedCrop(224),\n",
    "                                      transforms.RandomHorizontalFlip(),\n",
    "                                      transforms.ToTensor(),\n",
    "                                      transforms.Normalize([0.485, 0.456, 0.406],[0.229, 0.224, 0.225])])),\n",
    "                        ('valid',\n",
    "                        transforms.Compose([transforms.Resize(255),\n",
    "                                     transforms.CenterCrop(224),\n",
    "                                     transforms.ToTensor(),\n",
    "                                     transforms.Normalize([0.485, 0.456, 0.406],[0.229, 0.224, 0.225])\n",
    "                                     ]))])\n",
    "\n",
    "# TODO: Load the datasets with ImageFolder\n",
    "image_datasets = dict([('train',\n",
    "                       datasets.ImageFolder(train_dir, transform=data_transforms['train'])),\n",
    "                       ('valid',\n",
    "                       datasets.ImageFolder(valid_dir, transform=data_transforms['valid']))])\n",
    "\n",
    "    \n",
    "# TODO: Using the image datasets and the trainforms, define the dataloaders\n",
    "if valid_size <1:    \n",
    "    # training indices for randomSampler\n",
    "    num_train = len(image_datasets['train'])\n",
    "    indices = list(range(num_train))\n",
    "    np.random.shuffle(indices)\n",
    "    split = int(np.floor(valid_size * num_train))\n",
    "    train_idx = indices[:split]\n",
    "    train_sampler = SubsetRandomSampler(train_idx)\n",
    "    \n",
    "    train_dataloaders = torch.utils.data.DataLoader(image_datasets['train'], batch_size = num_batch_size, \n",
    "                                    sampler = train_sampler, num_workers = num_workers, shuffle = False )\n",
    "else:\n",
    "    train_dataloaders = torch.utils.data.DataLoader(image_datasets['train'], batch_size = num_batch_size, \n",
    "                                    num_workers = num_workers, shuffle = True )\n",
    "\n",
    "valid_dataloader = torch.utils.data.DataLoader(image_datasets['valid'], batch_size = num_batch_size)\n",
    "\n",
    "print('number of training data: {:g}'.format(np.floor(len(image_datasets['train'])*valid_size)))"
   ]
  },
  {
   "cell_type": "markdown",
   "metadata": {},
   "source": [
    "### Label mapping\n",
    "\n",
    "You'll also need to load in a mapping from category label to category name. You can find this in the file `cat_to_name.json`. It's a JSON object which you can read in with the [`json` module](https://docs.python.org/2/library/json.html). This will give you a dictionary mapping the integer encoded categories to the actual names of the flowers."
   ]
  },
  {
   "cell_type": "code",
   "execution_count": 89,
   "metadata": {
    "collapsed": true
   },
   "outputs": [],
   "source": [
    "with open('cat_to_name.json', 'r') as f:\n",
    "    cat_to_name = json.load(f)"
   ]
  },
  {
   "cell_type": "code",
   "execution_count": 29,
   "metadata": {
    "collapsed": true
   },
   "outputs": [],
   "source": [
    "### mapping between indices and classes\n",
    "class_to_idx = image_datasets['train'].class_to_idx\n",
    "# idx_to_class = {str(y):int(x) for x,y in class_to_idx.items()}"
   ]
  },
  {
   "cell_type": "markdown",
   "metadata": {},
   "source": [
    "# Building and training the classifier\n",
    "\n",
    "Now that the data is ready, it's time to build and train the classifier. As usual, you should use one of the pretrained models from `torchvision.models` to get the image features. Build and train a new feed-forward classifier using those features.\n",
    "\n",
    "We're going to leave this part up to you. If you want to talk through it with someone, chat with your fellow students! You can also ask questions on the forums or join the instructors in office hours.\n",
    "\n",
    "Refer to [the rubric](https://review.udacity.com/#!/rubrics/1663/view) for guidance on successfully completing this section. Things you'll need to do:\n",
    "\n",
    "* Load a [pre-trained network](http://pytorch.org/docs/master/torchvision/models.html) (If you need a starting point, the VGG networks work great and are straightforward to use)\n",
    "* Define a new, untrained feed-forward network as a classifier, using ReLU activations and dropout\n",
    "* Train the classifier layers using backpropagation using the pre-trained network to get the features\n",
    "* Track the loss and accuracy on the validation set to determine the best hyperparameters\n",
    "\n",
    "We've left a cell open for you below, but use as many as you need. Our advice is to break the problem up into smaller parts you can run separately. Check that each part is doing what you expect, then move on to the next. You'll likely find that as you work through each part, you'll need to go back and modify your previous code. This is totally normal!\n",
    "\n",
    "When training make sure you're updating only the weights of the feed-forward network. You should be able to get the validation accuracy above 70% if you build everything right. Make sure to try different hyperparameters (learning rate, units in the classifier, epochs, etc) to find the best model. Save those hyperparameters to use as default values in the next part of the project."
   ]
  },
  {
   "cell_type": "code",
   "execution_count": 7,
   "metadata": {
    "collapsed": true
   },
   "outputs": [],
   "source": [
    "# TODO: Build and train your network\n",
    "model = get_model(model_str)\n",
    "for param in model.parameters():\n",
    "    param.requires_grad = False\n",
    "if train_on_gpu:\n",
    "    model.cuda()\n",
    "\n",
    "# Loss and optimizer\n",
    "criterion = nn.NLLLoss()\n",
    "optimizer = optim.Adam(model.classifier.parameters(), lr=0.003)"
   ]
  },
  {
   "cell_type": "code",
   "execution_count": 8,
   "metadata": {
    "collapsed": true
   },
   "outputs": [],
   "source": [
    "def validation(model, testloader, criterion):\n",
    "    accuracy = 0\n",
    "    valid_loss = 0.0\n",
    "    \n",
    "    for data, target in testloader:\n",
    "        if train_on_gpu:\n",
    "            data, target = data.cuda(), target.cuda()\n",
    "        # forward pass, compute output of the current model\n",
    "        output = model(data)\n",
    "        # calculate loss and update average validation loss\n",
    "        valid_loss += criterion(output, target).item()*data.size(0)\n",
    "        ### accuracy\n",
    "        ps = torch.exp(output)\n",
    "        top_p, top_class = ps.topk(1, dim=1)\n",
    "        equals = top_class == target.view(*top_class.shape)\n",
    "        accuracy += torch.mean(equals.type(torch.FloatTensor)).item()\n",
    "\n",
    "    return valid_loss, accuracy"
   ]
  },
  {
   "cell_type": "code",
   "execution_count": 11,
   "metadata": {},
   "outputs": [
    {
     "name": "stdout",
     "output_type": "stream",
     "text": [
      "Epoch: 11/30\n",
      "Training Loss: 0.169740\n",
      "Validation Loss: 0.000308\n",
      "Accuracy: 0.000006\n",
      "Validation Loss decreased:    inf->0.000308, MODEL SAVED\n",
      "Epoch: 21/30\n",
      "Training Loss: 0.139323\n",
      "Validation Loss: 0.000308\n",
      "Accuracy: 0.000006\n",
      "Validation Loss decreased: 0.000308->0.000308, MODEL SAVED\n",
      "Epoch: 31/30\n",
      "Training Loss: 0.081588\n",
      "Validation Loss: 0.000312\n",
      "Accuracy: 0.000006\n"
     ]
    }
   ],
   "source": [
    "### Train\n",
    "# def train(model, trainloader, testloader, criterion, optimizer, epochs=5, print_every=40, class_to_idx):\n",
    "\n",
    "train_loss = 0.0\n",
    "valid_loss_min = np.Inf\n",
    "\n",
    "for epoch in range(1, epochs+1):  \n",
    "  \n",
    "    model.train()\n",
    "    for data, target in train_dataloaders:\n",
    "        \n",
    "        if train_on_gpu:\n",
    "            data, target = data.cuda(), target.cuda()\n",
    "        # clear fradients\n",
    "        optimizer.zero_grad()\n",
    "        # forward pass\n",
    "        output = model(data)\n",
    "        # batch loss  \n",
    "        loss = criterion(output, target)\n",
    "        # compute gradient\n",
    "        loss.backward()\n",
    "        # parameter update\n",
    "        optimizer.step()\n",
    "        # update training loss\n",
    "        train_loss += loss.item()*data.size(0)\n",
    "\n",
    "    ### validate the model, do it every print_every ###\n",
    "    model.eval()\n",
    "    with torch.no_grad():\n",
    "        test_loss, accuracy = validation(model, valid_dataloader, criterion) \n",
    "        valid_loss = test_loss/len(valid_dataloader.dataset)\n",
    "\n",
    "    ### print the training/validation loss\n",
    "    print(\"Epoch: {}/{}\".format(epoch+1, epochs, ))\n",
    "    print(\"Training Loss: {:6f}\".format(train_loss/len(train_dataloaders.dataset)))\n",
    "    print(\"Validation Loss: {:6f}\".format(valid_loss))\n",
    "    print('Accuracy: {:3f}'.format(accuracy/len(valid_dataloader)))\n",
    "\n",
    "    ### save model if validation loss has decreased\n",
    "    if valid_loss < valid_loss_min:\n",
    "        print(\"Validation Loss decreased: {:6f}->{:6f}, MODEL SAVED\".format(valid_loss_min, valid_loss))\n",
    "        checkpoint = {\n",
    "          'state_dict': model.state_dict(),\n",
    "          'class_to_idx': class_to_idx\n",
    "        }\n",
    "        torch.save(checkpoint, savename)\n",
    "        valid_loss_min = valid_loss\n",
    "    train_loss = 0.0\n",
    "    model.train()"
   ]
  },
  {
   "cell_type": "markdown",
   "metadata": {},
   "source": [
    "## Save the checkpoint\n",
    "\n",
    "Now that your network is trained, save the model so you can load it later for making predictions. You probably want to save other things such as the mapping of classes to indices which you get from one of the image datasets: `image_datasets['train'].class_to_idx`. You can attach this to the model as an attribute which makes inference easier later on.\n",
    "\n",
    "```model.class_to_idx = image_datasets['train'].class_to_idx```\n",
    "\n",
    "Remember that you'll want to completely rebuild the model later so you can use it for inference. Make sure to include any information you need in the checkpoint. If you want to load the model and keep training, you'll want to save the number of epochs as well as the optimizer state, `optimizer.state_dict`. You'll likely want to use this trained model in the next part of the project, so best to save it now."
   ]
  },
  {
   "cell_type": "code",
   "execution_count": null,
   "metadata": {
    "collapsed": true
   },
   "outputs": [],
   "source": [
    "## save final model\n",
    "checkpoint = {\n",
    "          'state_dict': model.state_dict(),\n",
    "          'class_to_idx': class_to_idx\n",
    "        }\n",
    "torch.save(checkpoint, 'final_'+ savename)"
   ]
  },
  {
   "cell_type": "markdown",
   "metadata": {},
   "source": [
    "## Loading the checkpoint\n",
    "\n",
    "At this point it's good to write a function that can load a checkpoint and rebuild the model. That way you can come back to this project and keep working on it without having to retrain the network."
   ]
  },
  {
   "cell_type": "code",
   "execution_count": 4,
   "metadata": {
    "collapsed": true
   },
   "outputs": [],
   "source": [
    "# TODO: Write a function that loads a checkpoint and rebuilds the model\n",
    "def load_checkpoint(filepath, model_str):\n",
    "    model = get_model(model_str)\n",
    "    checkpoint = torch.load(filepath, map_location='cpu')\n",
    "    model.load_state_dict(checkpoint['state_dict'])\n",
    "    class_to_idx = checkpoint['class_to_idx']\n",
    "    return model, class_to_idx"
   ]
  },
  {
   "cell_type": "markdown",
   "metadata": {},
   "source": [
    "# Inference for classification\n",
    "\n",
    "Now you'll write a function to use a trained network for inference. That is, you'll pass an image into the network and predict the class of the flower in the image. Write a function called `predict` that takes an image and a model, then returns the top $K$ most likely classes along with the probabilities. It should look like \n",
    "\n",
    "```python\n",
    "probs, classes = predict(image_path, model)\n",
    "print(probs)\n",
    "print(classes)\n",
    "> [ 0.01558163  0.01541934  0.01452626  0.01443549  0.01407339]\n",
    "> ['70', '3', '45', '62', '55']\n",
    "```\n",
    "\n",
    "First you'll need to handle processing the input image such that it can be used in your network. \n",
    "\n",
    "## Image Preprocessing\n",
    "\n",
    "You'll want to use `PIL` to load the image ([documentation](https://pillow.readthedocs.io/en/latest/reference/Image.html)). It's best to write a function that preprocesses the image so it can be used as input for the model. This function should process the images in the same manner used for training. \n",
    "\n",
    "First, resize the images where the shortest side is 256 pixels, keeping the aspect ratio. This can be done with the [`thumbnail`](http://pillow.readthedocs.io/en/3.1.x/reference/Image.html#PIL.Image.Image.thumbnail) or [`resize`](http://pillow.readthedocs.io/en/3.1.x/reference/Image.html#PIL.Image.Image.thumbnail) methods. Then you'll need to crop out the center 224x224 portion of the image.\n",
    "\n",
    "Color channels of images are typically encoded as integers 0-255, but the model expected floats 0-1. You'll need to convert the values. It's easiest with a Numpy array, which you can get from a PIL image like so `np_image = np.array(pil_image)`.\n",
    "\n",
    "As before, the network expects the images to be normalized in a specific way. For the means, it's `[0.485, 0.456, 0.406]` and for the standard deviations `[0.229, 0.224, 0.225]`. You'll want to subtract the means from each color channel, then divide by the standard deviation. \n",
    "\n",
    "And finally, PyTorch expects the color channel to be the first dimension but it's the third dimension in the PIL image and Numpy array. You can reorder dimensions using [`ndarray.transpose`](https://docs.scipy.org/doc/numpy-1.13.0/reference/generated/numpy.ndarray.transpose.html). The color channel needs to be first and retain the order of the other two dimensions."
   ]
  },
  {
   "cell_type": "code",
   "execution_count": 52,
   "metadata": {
    "collapsed": true
   },
   "outputs": [],
   "source": [
    "# TODO: Process a PIL image for use in a PyTorch model\n",
    "def process_image(image):\n",
    "    ''' Scales, crops, and normalizes a PIL image for a PyTorch model,\n",
    "        returns an Numpy array\n",
    "    '''\n",
    "    first_crop_size = 256\n",
    "    final_crop_size = 224 \n",
    "    nor_mean = np.array([0.485, 0.456, 0.406])\n",
    "    nor_std = np.array([0.229, 0.224, 0.225])\n",
    "    \n",
    "    img = Image.open(image)\n",
    "\n",
    "    h = img.height\n",
    "    w = img.width\n",
    "    ratio = h/w\n",
    "\n",
    "    if h>w:\n",
    "        w = first_crop_size\n",
    "        h = int(first_crop_size*ratio)\n",
    "    else:\n",
    "        h = first_crop_size\n",
    "        w = int(first_crop_size/ratio)\n",
    "\n",
    "    left = np.floor((w-final_crop_size)/2)\n",
    "    right = left+final_crop_size\n",
    "    top = np.floor((h-final_crop_size)/2)\n",
    "    bottom = top+final_crop_size\n",
    "\n",
    "\n",
    "    img_size = w, h  \n",
    "    final_size = left, top, right, bottom  \n",
    "    img = img.resize(img_size)\n",
    "    img = img.crop(final_size)\n",
    "    img = np.array(img)/255\n",
    "    nor_img_array = (img-nor_mean)/nor_std\n",
    "    final_img_array = np.ndarray.transpose(nor_img_array, (2, 0, 1))\n",
    "\n",
    "    return torch.from_numpy(final_img_array)"
   ]
  },
  {
   "cell_type": "markdown",
   "metadata": {},
   "source": [
    "To check your work, the function below converts a PyTorch tensor and displays it in the notebook. If your `process_image` function works, running the output through this function should return the original image (except for the cropped out portions)."
   ]
  },
  {
   "cell_type": "code",
   "execution_count": 6,
   "metadata": {
    "collapsed": true
   },
   "outputs": [],
   "source": [
    "def imshow(image, ax=None, title=None):\n",
    "    \"\"\"Imshow for Tensor.\"\"\"\n",
    "    if ax is None:\n",
    "        fig, ax = plt.subplots()\n",
    "    \n",
    "    # PyTorch tensors assume the color channel is the first dimension\n",
    "    # but matplotlib assumes is the third dimension\n",
    "    image = image.numpy().transpose((1, 2, 0))\n",
    "    \n",
    "    # Undo preprocessing\n",
    "    mean = np.array([0.485, 0.456, 0.406])\n",
    "    std = np.array([0.229, 0.224, 0.225])\n",
    "    image = std * image + mean\n",
    "    \n",
    "    # Image needs to be clipped between 0 and 1 or it looks like noise when displayed\n",
    "    image = np.clip(image, 0, 1)\n",
    "    \n",
    "    ax.imshow(image)\n",
    "    \n",
    "    return ax"
   ]
  },
  {
   "cell_type": "markdown",
   "metadata": {},
   "source": [
    "## Class Prediction\n",
    "\n",
    "Once you can get images in the correct format, it's time to write a function for making predictions with your model. A common practice is to predict the top 5 or so (usually called top-$K$) most probable classes. You'll want to calculate the class probabilities then find the $K$ largest values.\n",
    "\n",
    "To get the top $K$ largest values in a tensor use [`x.topk(k)`](http://pytorch.org/docs/master/torch.html#torch.topk). This method returns both the highest `k` probabilities and the indices of those probabilities corresponding to the classes. You need to convert from these indices to the actual class labels using `class_to_idx` which hopefully you added to the model or from an `ImageFolder` you used to load the data ([see here](#Save-the-checkpoint)). Make sure to invert the dictionary so you get a mapping from index to class as well.\n",
    "\n",
    "Again, this method should take a path to an image and a model checkpoint, then return the probabilities and classes.\n",
    "\n",
    "```python\n",
    "probs, classes = predict(image_path, model)\n",
    "print(probs)\n",
    "print(classes)\n",
    "> [ 0.01558163  0.01541934  0.01452626  0.01443549  0.01407339]\n",
    "> ['70', '3', '45', '62', '55']\n",
    "```"
   ]
  },
  {
   "cell_type": "code",
   "execution_count": 16,
   "metadata": {
    "collapsed": true
   },
   "outputs": [],
   "source": [
    "def calculate_accuracy(model, valid_dataloader):\n",
    "    model.eval()\n",
    "    for data, target = valid_dataloader:\n",
    "        # forward pass: compute predicted outputs by passing inputs to the model\n",
    "        logits = model(data)\n",
    "        ps =  torch.exp(logits)\n",
    "        top_p, top_class = ps.topk(5, dim=1)\n",
    "        top1 = top_class[:,0]\n",
    "        equals = top1 == target.view(*top1.shape)\n",
    "        accuracy = torch.mean(equals.type(torch.FloatTensor)).item()\n",
    "        print('accuracy:{:3f}'.format(accuracy))"
   ]
  },
  {
   "cell_type": "code",
   "execution_count": 142,
   "metadata": {
    "collapsed": true
   },
   "outputs": [],
   "source": [
    "def get_class_names(top_class, class_to_idx):\n",
    "    '''\n",
    "    input : top_class of one image (a torch) \n",
    "    output: the corresponding flower names of the top classes\n",
    "    ''' \n",
    "\n",
    "    idx_to_class = {str(y):int(x) for x,y in class_to_idx.items()}\n",
    "\n",
    "    if type(top_class) == torch.Tensor:\n",
    "        top_class = top_class.data.numpy().squeeze()\n",
    "        cat_names = [cat_to_name[str(idx_to_class[str(c)])] for c in top_class]\n",
    "    return cat_names"
   ]
  },
  {
   "cell_type": "code",
   "execution_count": 143,
   "metadata": {
    "collapsed": true
   },
   "outputs": [],
   "source": [
    "# TODO: Implement the code to predict the class from an image file\n",
    "def predict(image_path, model, class_to_idx, topk=5):\n",
    "    ''' Predict the class (or classes) of an image using a trained deep learning model.\n",
    "    '''\n",
    "    img = process_image(image_path)\n",
    "    img = img.unsqueeze(0).float()\n",
    "    model.eval()\n",
    "    logits = model(img)\n",
    "    ps = torch.exp(logits)\n",
    "    top_p, top_class = ps.topk(topk, dim=1)\n",
    "    labels = get_class_names(top_class, class_to_idx)\n",
    "    \n",
    "    print('Predicted Top{} classes: {}'.format(topk, top_class))\n",
    "    print('Class name: {}'.format(labels))\n",
    "    print('Predicted probability: {}'.format(top_p.detach().numpy()))\n",
    "    return top_p, top_class, labels"
   ]
  },
  {
   "cell_type": "markdown",
   "metadata": {},
   "source": [
    "## Sanity Checking\n",
    "\n",
    "Now that you can use a trained model for predictions, check to make sure it makes sense. Even if the validation accuracy is high, it's always good to check that there aren't obvious bugs. Use `matplotlib` to plot the probabilities for the top 5 classes as a bar graph, along with the input image. It should look like this:\n",
    "\n",
    "<img src='assets/inference_example.png' width=300px>\n",
    "\n",
    "You can convert from the class integer encoding to actual flower names with the `cat_to_name.json` file (should have been loaded earlier in the notebook). To show a PyTorch tensor as an image, use the `imshow` function defined above."
   ]
  },
  {
   "cell_type": "code",
   "execution_count": 10,
   "metadata": {
    "collapsed": true
   },
   "outputs": [],
   "source": [
    "# TODO: Display an image along with the top 5 classes\n",
    "def view_classify(image_path, ps, category_label):\n",
    "    ''' Function for viewing an image and it's predicted classes.\n",
    "    '''\n",
    "    img = plt.imread(image_path)\n",
    "    ps = ps.data.numpy().squeeze()\n",
    "    \n",
    "    fig, (ax1, ax2) = plt.subplots(figsize=(4,7), nrows=2)\n",
    "    ax1.imshow(img)\n",
    "    ax1.axis('off')\n",
    "    ax2.barh(np.arange(len(ps)), ps)\n",
    "#     ax2.set_aspect(0.5)\n",
    "    ax2.set_yticks(np.arange(len(ps)))\n",
    "    ax2.set_yticklabels(category_label, size='small')\n",
    "    ax2.set_title('Class Probability')\n",
    "    ax2.set_xlim(0, 1.1)\n",
    "\n",
    "    plt.tight_layout()"
   ]
  },
  {
   "cell_type": "markdown",
   "metadata": {},
   "source": [
    "## Final: Make prediction \n",
    "#### by giving image path, model path, model string"
   ]
  },
  {
   "cell_type": "code",
   "execution_count": 144,
   "metadata": {},
   "outputs": [
    {
     "name": "stdout",
     "output_type": "stream",
     "text": [
      "Predicted Top5 classes: tensor([[ 6, 48,  2, 47, 38]])\n",
      "Class name: [\"colt's foot\", 'common dandelion', 'blanket flower', 'english marigold', 'barbeton daisy']\n",
      "Predicted probability: [[9.9995613e-01 4.3712305e-05 6.4158501e-09 1.7425383e-09 3.2517263e-11]]\n"
     ]
    },
    {
     "data": {
      "image/png": "[encoded data removed]",
      "text/plain": [
       "<matplotlib.figure.Figure at 0x11450abe0>"
      ]
     },
     "metadata": {},
     "output_type": "display_data"
    }
   ],
   "source": [
    "image_path = 'flower_data/valid/12/image_04072.jpg'\n",
    "\n",
    "model, class_to_idx = load_checkpoint('models/final_M1_checkpoint.pth', 'M1')\n",
    "top_p, top_class, cat_labels = predict(image_path, model, class_to_idx, 5)\n",
    "view_classify(image_path, top_p, cat_labels)"
   ]
  }
 ],
 "metadata": {
  "kernelspec": {
   "display_name": "Python 3",
   "language": "python",
   "name": "python3"
  },
  "language_info": {
   "codemirror_mode": {
    "name": "ipython",
    "version": 3
   },
   "file_extension": ".py",
   "mimetype": "text/x-python",
   "name": "python",
   "nbconvert_exporter": "python",
   "pygments_lexer": "ipython3",
   "version": "3.6.3"
  }
 },
 "nbformat": 4,
 "nbformat_minor": 2
}
